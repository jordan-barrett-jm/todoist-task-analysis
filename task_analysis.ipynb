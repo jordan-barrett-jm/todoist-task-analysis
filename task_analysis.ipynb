{
 "cells": [
  {
   "cell_type": "markdown",
   "id": "27ceea15",
   "metadata": {},
   "source": [
    "# Todoist Completed Task Analysis for Jan 11, 2021 to Sep 24, 2021"
   ]
  },
  {
   "cell_type": "code",
   "execution_count": 156,
   "id": "484c2796",
   "metadata": {},
   "outputs": [],
   "source": [
    "from todoist.api import TodoistAPI\n",
    "import datetime\n",
    "import pytz\n",
    "import pandas as pd\n",
    "import configparser"
   ]
  },
  {
   "cell_type": "code",
   "execution_count": 157,
   "id": "0f00fdd1",
   "metadata": {},
   "outputs": [],
   "source": [
    "pd.set_option('display.max_rows', 500)\n",
    "config = configparser.ConfigParser()\n",
    "config.read('config.ini')\n",
    "token = config[\"TODOIST\"][\"token\"]"
   ]
  },
  {
   "cell_type": "code",
   "execution_count": null,
   "id": "e1364518",
   "metadata": {
    "scrolled": true
   },
   "outputs": [],
   "source": [
    "api = TodoistAPI(token)\n",
    "api.sync()"
   ]
  },
  {
   "cell_type": "code",
   "execution_count": 160,
   "id": "1ee857ea",
   "metadata": {},
   "outputs": [],
   "source": [
    "#set timezone, and start and end dates\n",
    "\n",
    "timezone = pytz.timezone(\"America/Jamaica\")\n",
    "start_datetime_str = \"2021-01-01 00:00\"\n",
    "end_datetime_str = \"2021-09-26 00:00\"\n",
    "start_datetime = datetime.datetime.strptime(start_datetime_str, \"%Y-%m-%d %H:%M\").replace(tzinfo=timezone)\n",
    "end_datetime = datetime.datetime.strptime(end_datetime_str, \"%Y-%m-%d %H:%M\").replace(tzinfo=timezone)"
   ]
  },
  {
   "cell_type": "code",
   "execution_count": 161,
   "id": "b4d4c7bf",
   "metadata": {},
   "outputs": [],
   "source": [
    "#fetch the data from Todoist\n",
    "\n",
    "in_range = True\n",
    "since_dt = start_datetime\n",
    "until_dt = start_datetime + datetime.timedelta(days=7)\n",
    "\n",
    "completed_items = []\n",
    "while in_range:\n",
    "    since = since_dt.astimezone(pytz.utc).strftime(\"%Y-%m-%dT%H:%M\")\n",
    "    until = until_dt.astimezone(pytz.utc).strftime(\"%Y-%m-%dT%H:%M\")\n",
    "    items = api.completed.get_all(limit=200, since=since, until=until)[\"items\"]\n",
    "    completed_items += items\n",
    "    if until_dt >= end_datetime:\n",
    "        in_range = False\n",
    "    since_dt += datetime.timedelta(days=7)\n",
    "    until_dt += datetime.timedelta(days=7)\n",
    "    \n",
    "    \n",
    "    "
   ]
  },
  {
   "cell_type": "code",
   "execution_count": 162,
   "id": "e032027b",
   "metadata": {},
   "outputs": [
    {
     "data": {
      "text/plain": [
       "1339"
      ]
     },
     "execution_count": 162,
     "metadata": {},
     "output_type": "execute_result"
    }
   ],
   "source": [
    "len(completed_items)"
   ]
  },
  {
   "cell_type": "code",
   "execution_count": 163,
   "id": "6833e8a6",
   "metadata": {},
   "outputs": [],
   "source": [
    "def getDT(item):\n",
    "    completed_date = item[\"completed_date\"]\n",
    "    completed_datetime = datetime.datetime.strptime(completed_date, \"%Y-%m-%dT%H:%M:%SZ\")\n",
    "    completed_datetime = completed_datetime.replace(tzinfo=pytz.UTC)\n",
    "    completed_datetime = completed_datetime.astimezone(timezone)\n",
    "    return getWeek(completed_datetime)\n",
    "\n",
    "def getWeek(dt):\n",
    "    start = dt - datetime.timedelta(days=dt.weekday())\n",
    "    end = start + datetime.timedelta(days=6)\n",
    "    week_str = start.strftime(\"%b %d-\") + end.strftime(\"%b %d\")\n",
    "    week_num = int(start.strftime(\"%V\"))\n",
    "    return (week_num, week_str)\n",
    "    \n",
    "    "
   ]
  },
  {
   "cell_type": "code",
   "execution_count": 164,
   "id": "d35ca8b8",
   "metadata": {},
   "outputs": [],
   "source": [
    "task_distribution = {}\n",
    "for item in completed_items:\n",
    "    dt = getDT(item)\n",
    "    if dt not in task_distribution:\n",
    "        task_distribution[dt] = 1\n",
    "    else:\n",
    "        task_distribution[dt] += 1\n",
    "\n",
    "lst = list(task_distribution.keys())\n",
    "lst.sort()\n",
    "keys = list(map(lambda item: item[1], lst))\n",
    "values = list(map(lambda item: task_distribution[item], lst))"
   ]
  },
  {
   "cell_type": "code",
   "execution_count": 168,
   "id": "6a8207ca",
   "metadata": {},
   "outputs": [],
   "source": [
    "data = {\"Week\": keys[:-1], \"Number of Tasks Completed\": values[:-1]}"
   ]
  },
  {
   "cell_type": "code",
   "execution_count": 169,
   "id": "c761d185",
   "metadata": {
    "scrolled": false
   },
   "outputs": [
    {
     "data": {
      "text/html": [
       "<div>\n",
       "<style scoped>\n",
       "    .dataframe tbody tr th:only-of-type {\n",
       "        vertical-align: middle;\n",
       "    }\n",
       "\n",
       "    .dataframe tbody tr th {\n",
       "        vertical-align: top;\n",
       "    }\n",
       "\n",
       "    .dataframe thead th {\n",
       "        text-align: right;\n",
       "    }\n",
       "</style>\n",
       "<table border=\"1\" class=\"dataframe\">\n",
       "  <thead>\n",
       "    <tr style=\"text-align: right;\">\n",
       "      <th></th>\n",
       "      <th>Week</th>\n",
       "      <th>Number of Tasks Completed</th>\n",
       "    </tr>\n",
       "  </thead>\n",
       "  <tbody>\n",
       "    <tr>\n",
       "      <th>0</th>\n",
       "      <td>Jan 11-Jan 17</td>\n",
       "      <td>19</td>\n",
       "    </tr>\n",
       "    <tr>\n",
       "      <th>1</th>\n",
       "      <td>Jan 18-Jan 24</td>\n",
       "      <td>44</td>\n",
       "    </tr>\n",
       "    <tr>\n",
       "      <th>2</th>\n",
       "      <td>Jan 25-Jan 31</td>\n",
       "      <td>43</td>\n",
       "    </tr>\n",
       "    <tr>\n",
       "      <th>3</th>\n",
       "      <td>Feb 01-Feb 07</td>\n",
       "      <td>55</td>\n",
       "    </tr>\n",
       "    <tr>\n",
       "      <th>4</th>\n",
       "      <td>Feb 08-Feb 14</td>\n",
       "      <td>56</td>\n",
       "    </tr>\n",
       "    <tr>\n",
       "      <th>5</th>\n",
       "      <td>Feb 15-Feb 21</td>\n",
       "      <td>37</td>\n",
       "    </tr>\n",
       "    <tr>\n",
       "      <th>6</th>\n",
       "      <td>Feb 22-Feb 28</td>\n",
       "      <td>49</td>\n",
       "    </tr>\n",
       "    <tr>\n",
       "      <th>7</th>\n",
       "      <td>Mar 01-Mar 07</td>\n",
       "      <td>38</td>\n",
       "    </tr>\n",
       "    <tr>\n",
       "      <th>8</th>\n",
       "      <td>Mar 08-Mar 14</td>\n",
       "      <td>18</td>\n",
       "    </tr>\n",
       "    <tr>\n",
       "      <th>9</th>\n",
       "      <td>Mar 15-Mar 21</td>\n",
       "      <td>26</td>\n",
       "    </tr>\n",
       "    <tr>\n",
       "      <th>10</th>\n",
       "      <td>Mar 22-Mar 28</td>\n",
       "      <td>19</td>\n",
       "    </tr>\n",
       "    <tr>\n",
       "      <th>11</th>\n",
       "      <td>Mar 29-Apr 04</td>\n",
       "      <td>29</td>\n",
       "    </tr>\n",
       "    <tr>\n",
       "      <th>12</th>\n",
       "      <td>Apr 05-Apr 11</td>\n",
       "      <td>23</td>\n",
       "    </tr>\n",
       "    <tr>\n",
       "      <th>13</th>\n",
       "      <td>Apr 12-Apr 18</td>\n",
       "      <td>36</td>\n",
       "    </tr>\n",
       "    <tr>\n",
       "      <th>14</th>\n",
       "      <td>Apr 19-Apr 25</td>\n",
       "      <td>40</td>\n",
       "    </tr>\n",
       "    <tr>\n",
       "      <th>15</th>\n",
       "      <td>Apr 26-May 02</td>\n",
       "      <td>56</td>\n",
       "    </tr>\n",
       "    <tr>\n",
       "      <th>16</th>\n",
       "      <td>May 03-May 09</td>\n",
       "      <td>40</td>\n",
       "    </tr>\n",
       "    <tr>\n",
       "      <th>17</th>\n",
       "      <td>May 10-May 16</td>\n",
       "      <td>42</td>\n",
       "    </tr>\n",
       "    <tr>\n",
       "      <th>18</th>\n",
       "      <td>May 17-May 23</td>\n",
       "      <td>33</td>\n",
       "    </tr>\n",
       "    <tr>\n",
       "      <th>19</th>\n",
       "      <td>May 24-May 30</td>\n",
       "      <td>32</td>\n",
       "    </tr>\n",
       "    <tr>\n",
       "      <th>20</th>\n",
       "      <td>May 31-Jun 06</td>\n",
       "      <td>34</td>\n",
       "    </tr>\n",
       "    <tr>\n",
       "      <th>21</th>\n",
       "      <td>Jun 07-Jun 13</td>\n",
       "      <td>33</td>\n",
       "    </tr>\n",
       "    <tr>\n",
       "      <th>22</th>\n",
       "      <td>Jun 14-Jun 20</td>\n",
       "      <td>41</td>\n",
       "    </tr>\n",
       "    <tr>\n",
       "      <th>23</th>\n",
       "      <td>Jun 21-Jun 27</td>\n",
       "      <td>34</td>\n",
       "    </tr>\n",
       "    <tr>\n",
       "      <th>24</th>\n",
       "      <td>Jun 28-Jul 04</td>\n",
       "      <td>30</td>\n",
       "    </tr>\n",
       "    <tr>\n",
       "      <th>25</th>\n",
       "      <td>Jul 05-Jul 11</td>\n",
       "      <td>21</td>\n",
       "    </tr>\n",
       "    <tr>\n",
       "      <th>26</th>\n",
       "      <td>Jul 12-Jul 18</td>\n",
       "      <td>27</td>\n",
       "    </tr>\n",
       "    <tr>\n",
       "      <th>27</th>\n",
       "      <td>Jul 19-Jul 25</td>\n",
       "      <td>38</td>\n",
       "    </tr>\n",
       "    <tr>\n",
       "      <th>28</th>\n",
       "      <td>Jul 26-Aug 01</td>\n",
       "      <td>26</td>\n",
       "    </tr>\n",
       "    <tr>\n",
       "      <th>29</th>\n",
       "      <td>Aug 02-Aug 08</td>\n",
       "      <td>40</td>\n",
       "    </tr>\n",
       "    <tr>\n",
       "      <th>30</th>\n",
       "      <td>Aug 09-Aug 15</td>\n",
       "      <td>41</td>\n",
       "    </tr>\n",
       "    <tr>\n",
       "      <th>31</th>\n",
       "      <td>Aug 16-Aug 22</td>\n",
       "      <td>38</td>\n",
       "    </tr>\n",
       "    <tr>\n",
       "      <th>32</th>\n",
       "      <td>Aug 23-Aug 29</td>\n",
       "      <td>33</td>\n",
       "    </tr>\n",
       "    <tr>\n",
       "      <th>33</th>\n",
       "      <td>Aug 30-Sep 05</td>\n",
       "      <td>31</td>\n",
       "    </tr>\n",
       "    <tr>\n",
       "      <th>34</th>\n",
       "      <td>Sep 06-Sep 12</td>\n",
       "      <td>38</td>\n",
       "    </tr>\n",
       "    <tr>\n",
       "      <th>35</th>\n",
       "      <td>Sep 13-Sep 19</td>\n",
       "      <td>41</td>\n",
       "    </tr>\n",
       "    <tr>\n",
       "      <th>36</th>\n",
       "      <td>Sep 20-Sep 26</td>\n",
       "      <td>56</td>\n",
       "    </tr>\n",
       "  </tbody>\n",
       "</table>\n",
       "</div>"
      ],
      "text/plain": [
       "             Week  Number of Tasks Completed\n",
       "0   Jan 11-Jan 17                         19\n",
       "1   Jan 18-Jan 24                         44\n",
       "2   Jan 25-Jan 31                         43\n",
       "3   Feb 01-Feb 07                         55\n",
       "4   Feb 08-Feb 14                         56\n",
       "5   Feb 15-Feb 21                         37\n",
       "6   Feb 22-Feb 28                         49\n",
       "7   Mar 01-Mar 07                         38\n",
       "8   Mar 08-Mar 14                         18\n",
       "9   Mar 15-Mar 21                         26\n",
       "10  Mar 22-Mar 28                         19\n",
       "11  Mar 29-Apr 04                         29\n",
       "12  Apr 05-Apr 11                         23\n",
       "13  Apr 12-Apr 18                         36\n",
       "14  Apr 19-Apr 25                         40\n",
       "15  Apr 26-May 02                         56\n",
       "16  May 03-May 09                         40\n",
       "17  May 10-May 16                         42\n",
       "18  May 17-May 23                         33\n",
       "19  May 24-May 30                         32\n",
       "20  May 31-Jun 06                         34\n",
       "21  Jun 07-Jun 13                         33\n",
       "22  Jun 14-Jun 20                         41\n",
       "23  Jun 21-Jun 27                         34\n",
       "24  Jun 28-Jul 04                         30\n",
       "25  Jul 05-Jul 11                         21\n",
       "26  Jul 12-Jul 18                         27\n",
       "27  Jul 19-Jul 25                         38\n",
       "28  Jul 26-Aug 01                         26\n",
       "29  Aug 02-Aug 08                         40\n",
       "30  Aug 09-Aug 15                         41\n",
       "31  Aug 16-Aug 22                         38\n",
       "32  Aug 23-Aug 29                         33\n",
       "33  Aug 30-Sep 05                         31\n",
       "34  Sep 06-Sep 12                         38\n",
       "35  Sep 13-Sep 19                         41\n",
       "36  Sep 20-Sep 26                         56"
      ]
     },
     "execution_count": 169,
     "metadata": {},
     "output_type": "execute_result"
    }
   ],
   "source": [
    "df = pd.DataFrame(data,columns=['Week','Number of Tasks Completed'])\n",
    "df"
   ]
  },
  {
   "cell_type": "code",
   "execution_count": 170,
   "id": "008ca48e",
   "metadata": {},
   "outputs": [
    {
     "data": {
      "text/plain": [
       "<AxesSubplot:ylabel='Week'>"
      ]
     },
     "execution_count": 170,
     "metadata": {},
     "output_type": "execute_result"
    },
    {
     "data": {
      "image/png": "[encoded data removed]",
      "text/plain": [
       "<Figure size 1080x648 with 1 Axes>"
      ]
     },
     "metadata": {
      "needs_background": "light"
     },
     "output_type": "display_data"
    }
   ],
   "source": [
    "df = df.iloc[::-1]\n",
    "df.plot.barh(y=\"Number of Tasks Completed\", x=\"Week\", figsize=(15,9))"
   ]
  },
  {
   "cell_type": "code",
   "execution_count": null,
   "id": "de7daaa5",
   "metadata": {},
   "outputs": [],
   "source": []
  }
 ],
 "metadata": {
  "kernelspec": {
   "display_name": "Python 3",
   "language": "python",
   "name": "python3"
  },
  "language_info": {
   "codemirror_mode": {
    "name": "ipython",
    "version": 3
   },
   "file_extension": ".py",
   "mimetype": "text/x-python",
   "name": "python",
   "nbconvert_exporter": "python",
   "pygments_lexer": "ipython3",
   "version": "3.9.5"
  }
 },
 "nbformat": 4,
 "nbformat_minor": 5
}
